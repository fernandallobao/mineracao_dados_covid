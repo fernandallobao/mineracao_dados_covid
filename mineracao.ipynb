{
 "cells": [
  {
   "cell_type": "markdown",
   "metadata": {},
   "source": [
    "# **Progresso da vacinação conta a COVIF-19**\n",
    "\n",
    "Inicializamos os pacotes Python que usaremos para ingestão, preparação e visualização de dados. Usaremos principalmente Plotly para visualização. Em seguida, lemos o arquivo de dados e agregamos os dados em alguns campos (país, código iso e vacinas - esse é o esquema de vacinação utilizado em um determinado país).\n",
    "\n",
    "Procuraremos principalmente:\n",
    "\n",
    "- Que esquemas de vacinação são utilizados em vários países;\n",
    "- Número total de vacinações e percentagem de vacinações;\n",
    "- Vacinações diárias e vacinações diárias por milhão;\n",
    "- Total de pessoas vacinadas e percentagem de pessoas vacinadas;\n",
    "- No conjunto de dados também há informações sobre o número total de pessoas totalmente vacinadas (e a porcentagem delas).\n",
    "\n",
    "Visualizamos os valores mais recentes (máximos) e também a variação no tempo dos valores acima mencionados.\n",
    "\n",
    "Instalação das bibliotecas:"
   ]
  },
  {
   "cell_type": "code",
   "execution_count": null,
   "metadata": {},
   "outputs": [],
   "source": [
    "import numpy as np\n",
    "import pandas as pd \n",
    "import matplotlib.pyplot as plt\n",
    "import seaborn as sns \n",
    "import plotly.graph_objs as go\n",
    "import plotly.figure_factory as ff\n",
    "from plotly import tools\n",
    "from plotly.offline import download_plotlyjs, init_notebook_mode, plot, iplot\n",
    "import plotly.express as px\n",
    "init_notebook_mode(connected=True)\n",
    "import warnings\n",
    "warnings.filterwarnings(\"ignore\")\n",
    "import nbformat\n",
    "\n",
    "\n"
   ]
  },
  {
   "cell_type": "markdown",
   "metadata": {},
   "source": [
    "Chamando o arquivo **CSV**"
   ]
  },
  {
   "cell_type": "code",
   "execution_count": null,
   "metadata": {},
   "outputs": [],
   "source": [
    "data_df = pd.read_csv(\"country_vaccinations.csv\")"
   ]
  },
  {
   "cell_type": "markdown",
   "metadata": {},
   "source": [
    "Seleciona so as colunas desejadas"
   ]
  },
  {
   "cell_type": "code",
   "execution_count": null,
   "metadata": {},
   "outputs": [],
   "source": [
    "\n",
    "country_vaccine = data_df.groupby(['country', 'iso_code', 'vaccines'])[['total_vaccinations', \n",
    "                                                                       'total_vaccinations_per_hundred',\n",
    "                                                                      'daily_vaccinations',\n",
    "                                                                      'daily_vaccinations_per_million',\n",
    "                                                                      'people_vaccinated',\n",
    "                                                                      'people_vaccinated_per_hundred',\n",
    "                                                                       'people_fully_vaccinated', 'people_fully_vaccinated_per_hundred'\n",
    "]].max().reset_index()\n",
    "\n",
    "country_vaccine.columns = ['Country', 'iso_code', 'Vaccines', 'Total vaccinations', 'Percent', 'Daily vaccinations', \n",
    "                           'Daily vaccinations per million', 'People vaccinated', 'People vaccinated per hundred',\n",
    "                           'People fully vaccinated', 'People fully vaccinated percent']"
   ]
  },
  {
   "cell_type": "markdown",
   "metadata": {},
   "source": [
    "---\n",
    "# Quais vacinas são usadas em cada País?\n",
    "\n",
    "Press Output button to see a list of countries where each vaccine is used."
   ]
  },
  {
   "cell_type": "code",
   "execution_count": null,
   "metadata": {},
   "outputs": [],
   "source": [
    "vaccines = country_vaccine.Vaccines.unique()\n",
    "for v in vaccines:\n",
    "    countries = country_vaccine.loc[country_vaccine.Vaccines==v, 'Country'].values\n",
    "    print(f\"Vaccines: {v}: \\nCountries: {list(countries)}\\n\")"
   ]
  },
  {
   "cell_type": "code",
   "execution_count": null,
   "metadata": {},
   "outputs": [],
   "source": [
    "\n",
    "# Certifique-se de que country_vaccine tenha os dados corretos\n",
    "fig = px.choropleth(\n",
    "    country_vaccine,\n",
    "    locations=\"Country\", \n",
    "    locationmode=\"country names\",\n",
    "    color=\"Vaccines\",\n",
    "    title=\"Countries using each vaccine (different colors for each vaccine)\",\n",
    "    height=800\n",
    ")\n",
    "\n",
    "# Atualiza a orientação e o título da legenda\n",
    "fig.update_layout(\n",
    "    legend=dict(\n",
    "        orientation=\"v\",\n",
    "        title=\"Vaccine scheme\"\n",
    "    )\n",
    ")\n",
    "\n",
    "# Exibe o gráfico\n",
    "fig.show()\n"
   ]
  },
  {
   "cell_type": "markdown",
   "metadata": {},
   "source": [
    "---\n",
    "# Qual esquema de vacinação é mais utilizado?\n",
    "\n",
    "**Geral**\n",
    "Vejamos primeiro o esquema de vacinação utilizado em geral (não dividido por países)."
   ]
  },
  {
   "cell_type": "code",
   "execution_count": null,
   "metadata": {},
   "outputs": [],
   "source": [
    "vaccine = data_df.groupby([\"vaccines\"])[['total_vaccinations','total_vaccinations_per_hundred',\n",
    "                                       'daily_vaccinations','daily_vaccinations_per_million']].max().reset_index()\n",
    "vaccine.columns = [\"Vaccines\", \"Total vaccinations\", \"Percent\", \"Daily vaccinations\", \n",
    "                           \"Daily vaccinations per million\"]\n",
    "def draw_trace_bar_vaccine(data, feature, title, xlab, ylab,color='Blue'):\n",
    "    data = data.sort_values(feature, ascending=False)\n",
    "    trace = go.Bar(\n",
    "            x = data['Vaccines'],\n",
    "            y = data[feature],\n",
    "            marker=dict(color=color),\n",
    "            text=data['Vaccines']\n",
    "        )\n",
    "    data = [trace]\n",
    "\n",
    "    layout = dict(title = title,\n",
    "              xaxis = dict(title = xlab, showticklabels=True, tickangle=45, \n",
    "                           zeroline=True, zerolinewidth=1, zerolinecolor='grey',\n",
    "                           showline=True, linewidth=2, linecolor='black', mirror=True,\n",
    "                          tickfont=dict(\n",
    "                            size=10,\n",
    "                            color='black'),), \n",
    "              yaxis = dict(title = ylab, gridcolor='lightgrey', zeroline=True, zerolinewidth=1, zerolinecolor='grey',\n",
    "                          showline=True, linewidth=2, linecolor='black', mirror=True),\n",
    "              plot_bgcolor = 'rgba(0, 0, 0, 0)', paper_bgcolor = 'rgba(0, 0, 0, 0)',\n",
    "              hovermode = 'closest',\n",
    "              height = 800\n",
    "             )\n",
    "    fig = dict(data = data, layout = layout)\n",
    "    iplot(fig, filename='draw_trace')\n",
    "\n",
    "\n",
    "draw_trace_bar_vaccine(vaccine, 'Total vaccinations', 'Total per vaccine scheme', 'Vaccine', 'Vaccination total', \"darkmagenta\" )"
   ]
  },
  {
   "cell_type": "markdown",
   "metadata": {},
   "source": [
    "Alguns países utilizam um esquema de vacinação misto (utilizam mais de uma vacina).\n",
    "\n",
    "O mapeamento é o seguinte:\n",
    "\n",
    "- Moderna, Pfizer/BioNTech – EUA;\n",
    "- CNBG, Sinovac – China;\n",
    "- Oxford/AstraZeneca, Pfizer/BioNTech', 'Pfizer/BioNTech - Reino Unido;\n",
    "- Pfizer/BioNTech – principalmente UE;\n",
    "- Pfizer/BioNTech, Sinopharm – Emirados Árabes Unidos;\n",
    "- Sinovac – Turquia;\n",
    "- Covaxin, Covishield – Índia;\n",
    "\n",
    "## Per countries\n",
    "\n",
    "To see the vaccination scheme distribution per countries, we will use treemap representations.\n",
    "\n",
    "We look to the total vaccinations, to daily vaccinations values as well as total people vaccinated.\n",
    "\n",
    "Note: click on a treemap item to navigate down the tree structure and expand the current branch."
   ]
  },
  {
   "cell_type": "code",
   "execution_count": null,
   "metadata": {},
   "outputs": [],
   "source": [
    "fig = px.treemap(country_vaccine, path = ['Vaccines', 'Country'], values = 'Total vaccinations',\n",
    "                title=\"Total vaccinations per country, grouped by vaccine scheme\")\n",
    "fig.show()"
   ]
  },
  {
   "cell_type": "code",
   "execution_count": null,
   "metadata": {},
   "outputs": [],
   "source": [
    "fig = px.treemap(country_vaccine, path = ['Vaccines', 'Country'], values = 'Daily vaccinations',\n",
    "                title=\"Daily vaccinations per country, grouped by vaccine scheme\")\n",
    "fig.show()"
   ]
  },
  {
   "cell_type": "code",
   "execution_count": null,
   "metadata": {},
   "outputs": [],
   "source": [
    "fig = px.treemap(country_vaccine, path = ['Vaccines', 'Country'], values = 'People vaccinated',\n",
    "                title=\"People vaccinated per country, grouped by vaccine scheme\")\n",
    "fig.show()"
   ]
  },
  {
   "cell_type": "markdown",
   "metadata": {},
   "source": [
    "---\n",
    "# **How many are vaccinated (total and as percent from population)?**\n",
    "\n",
    "Let's look now to the countries statistics, irrespective to the vaccine scheme. We will look to the top of the countries by:\n",
    "- Total number of vaccinations;\n",
    "- Percent of vaccinations from entire population;\n",
    "- Daily number of vaccinations;\n",
    "- Daily number of vaccination per million population;\n",
    "- People vaccinated;\n",
    "- Percent of vaccinated people from entire population."
   ]
  },
  {
   "cell_type": "code",
   "execution_count": null,
   "metadata": {},
   "outputs": [],
   "source": [
    "def draw_trace_bar(data, feature, title, xlab, ylab,color='Blue'):\n",
    "    data = data.sort_values(feature, ascending=False)\n",
    "    trace = go.Bar(\n",
    "            x = data['Country'],\n",
    "            y = data[feature],\n",
    "            marker=dict(color=color),\n",
    "            text=data['Country']\n",
    "        )\n",
    "    data = [trace]\n",
    "\n",
    "    layout = dict(title = title,\n",
    "              xaxis = dict(title = xlab, showticklabels=True, tickangle=45, \n",
    "                           zeroline=True, zerolinewidth=1, zerolinecolor='grey',\n",
    "                           showline=True, linewidth=2, linecolor='black', mirror=True,\n",
    "                          tickfont=dict(\n",
    "                            size=10,\n",
    "                            color='black'),), \n",
    "              yaxis = dict(title = ylab, gridcolor='lightgrey', zeroline=True, zerolinewidth=1, zerolinecolor='grey',\n",
    "                          showline=True, linewidth=2, linecolor='black', mirror=True),\n",
    "              plot_bgcolor = 'rgba(0, 0, 0, 0)', paper_bgcolor = 'rgba(0, 0, 0, 0)',\n",
    "              hovermode = 'closest'\n",
    "             )\n",
    "    fig = dict(data = data, layout = layout)\n",
    "    iplot(fig, filename='draw_trace')"
   ]
  },
  {
   "cell_type": "code",
   "execution_count": null,
   "metadata": {},
   "outputs": [],
   "source": [
    "draw_trace_bar(country_vaccine, 'Total vaccinations', 'Vaccination total per country', 'Country', 'Vaccination total', \"Darkgreen\" )"
   ]
  },
  {
   "cell_type": "code",
   "execution_count": null,
   "metadata": {},
   "outputs": [],
   "source": [
    "draw_trace_bar(country_vaccine, 'Percent', 'Vaccination percent per country', 'Country', 'Vaccination percent' )"
   ]
  },
  {
   "cell_type": "code",
   "execution_count": null,
   "metadata": {},
   "outputs": [],
   "source": [
    "draw_trace_bar(country_vaccine, 'Daily vaccinations', 'Daily vaccinations per country', 'Country', 'Daily vaccinations', \"red\" )"
   ]
  },
  {
   "cell_type": "code",
   "execution_count": null,
   "metadata": {},
   "outputs": [],
   "source": [
    "draw_trace_bar(country_vaccine, 'Daily vaccinations per million', 'Daily vaccinations per million per country', 'Country',\\\n",
    "               'Daily vaccinations per million', \"magenta\" )"
   ]
  },
  {
   "cell_type": "code",
   "execution_count": null,
   "metadata": {},
   "outputs": [],
   "source": [
    "draw_trace_bar(country_vaccine, 'People vaccinated', 'People vaccinated per country', 'Country',\\\n",
    "               'People vaccinated', \"lightblue\" )"
   ]
  },
  {
   "cell_type": "code",
   "execution_count": null,
   "metadata": {},
   "outputs": [],
   "source": [
    "draw_trace_bar(country_vaccine, 'People vaccinated per hundred', 'People vaccinated per hundred per country', 'Country',\\\n",
    "               'People vaccinated per hundred', \"orange\" )"
   ]
  },
  {
   "cell_type": "code",
   "execution_count": null,
   "metadata": {},
   "outputs": [],
   "source": [
    "def plot_custom_scatter(df, x, y, size, color, hover_name, title):\n",
    "    fig = px.scatter(df, x=x, y=y, size=size, color=color,\n",
    "               hover_name=hover_name, size_max=80, title = title)\n",
    "    fig.update_layout({'legend_orientation':'h'})\n",
    "    fig.update_layout(legend=dict(yanchor=\"top\", y=-0.2))\n",
    "    fig.update_layout({'legend_title':'Vaccine scheme'})\n",
    "    fig.update_layout({'plot_bgcolor': 'rgba(0, 0, 0, 0)','paper_bgcolor': 'rgba(0, 0, 0, 0)'})\n",
    "    fig.update_xaxes(showline=True, linewidth=2, linecolor='black', mirror=True)\n",
    "    fig.update_yaxes(showline=True, linewidth=2, linecolor='black', mirror=True)\n",
    "    fig.update_xaxes(zeroline=True, zerolinewidth=1, zerolinecolor='grey')\n",
    "    fig.update_yaxes(zeroline=True, zerolinewidth=1, zerolinecolor='grey')\n",
    "    fig.update_xaxes(showgrid=True, gridwidth=1, gridcolor='lightgrey')\n",
    "    fig.update_yaxes(showgrid=True, gridwidth=1, gridcolor='lightgrey')\n",
    "    fig.show() "
   ]
  },
  {
   "cell_type": "code",
   "execution_count": null,
   "metadata": {},
   "outputs": [],
   "source": [
    "plot_custom_scatter(country_vaccine, x=\"Total vaccinations\", y=\"Percent\", size=\"Total vaccinations\", color=\"Vaccines\",\n",
    "           hover_name=\"Country\", title = \"Vaccinations (Percent vs. total), grouped per country and vaccines\")"
   ]
  },
  {
   "cell_type": "code",
   "execution_count": null,
   "metadata": {},
   "outputs": [],
   "source": [
    "plot_custom_scatter(country_vaccine, x=\"Total vaccinations\", y=\"Daily vaccinations\", size=\"Total vaccinations\", color=\"Vaccines\",\n",
    "           hover_name=\"Country\", title = \"Vaccinations (Total vs. Daily) grouped per country and vaccines\")"
   ]
  },
  {
   "cell_type": "code",
   "execution_count": null,
   "metadata": {},
   "outputs": [],
   "source": [
    "plot_custom_scatter(country_vaccine, x=\"Percent\", y=\"Daily vaccinations per million\", size=\"Total vaccinations\", color=\"Vaccines\",\n",
    "           hover_name=\"Country\", title = \"Vaccinations (Daily / million vs. Percent) grouped per country and vaccines\")"
   ]
  },
  {
   "cell_type": "code",
   "execution_count": null,
   "metadata": {},
   "outputs": [],
   "source": [
    "trace = go.Choropleth(\n",
    "            locations = country_vaccine['Country'],\n",
    "            locationmode='country names',\n",
    "            z = country_vaccine['Total vaccinations'],\n",
    "            text = country_vaccine['Country'],\n",
    "            autocolorscale =False,\n",
    "            reversescale = True,\n",
    "            colorscale = 'viridis',\n",
    "            marker = dict(\n",
    "                line = dict(\n",
    "                    color = 'rgb(0,0,0)',\n",
    "                    width = 0.5)\n",
    "            ),\n",
    "            colorbar = dict(\n",
    "                title = 'Total vaccinations',\n",
    "                tickprefix = '')\n",
    "        )\n",
    "\n",
    "data = [trace]\n",
    "layout = go.Layout(\n",
    "    title = 'Total vaccinations per country',\n",
    "    geo = dict(\n",
    "        showframe = True,\n",
    "        showlakes = False,\n",
    "        showcoastlines = True,\n",
    "        projection = dict(\n",
    "            type = 'natural earth'\n",
    "        )\n",
    "    )\n",
    ")\n",
    "\n",
    "fig = dict( data=data, layout=layout )\n",
    "iplot(fig)"
   ]
  },
  {
   "cell_type": "code",
   "execution_count": null,
   "metadata": {},
   "outputs": [],
   "source": [
    "trace = go.Choropleth(\n",
    "            locations = country_vaccine['Country'],\n",
    "            locationmode='country names',\n",
    "            z = country_vaccine['Percent'],\n",
    "            text = country_vaccine['Country'],\n",
    "            autocolorscale =False,\n",
    "            reversescale = True,\n",
    "            colorscale = 'viridis',\n",
    "            marker = dict(\n",
    "                line = dict(\n",
    "                    color = 'rgb(0,0,0)',\n",
    "                    width = 0.5)\n",
    "            ),\n",
    "            colorbar = dict(\n",
    "                title = 'Percent',\n",
    "                tickprefix = '')\n",
    "        )\n",
    "\n",
    "data = [trace]\n",
    "layout = go.Layout(\n",
    "    title = 'Total vaccinations per hundred per country',\n",
    "    geo = dict(\n",
    "        showframe = True,\n",
    "        showlakes = False,\n",
    "        showcoastlines = True,\n",
    "        projection = dict(\n",
    "            type = 'natural earth'\n",
    "        )\n",
    "    )\n",
    ")\n",
    "\n",
    "fig = dict( data=data, layout=layout )\n",
    "iplot(fig)"
   ]
  },
  {
   "cell_type": "code",
   "execution_count": null,
   "metadata": {},
   "outputs": [],
   "source": [
    "trace = go.Choropleth(\n",
    "            locations = country_vaccine['Country'],\n",
    "            locationmode='country names',\n",
    "            z = country_vaccine['Daily vaccinations'],\n",
    "            text = country_vaccine['Country'],\n",
    "            autocolorscale =False,\n",
    "            reversescale = True,\n",
    "            colorscale = 'viridis',\n",
    "            marker = dict(\n",
    "                line = dict(\n",
    "                    color = 'rgb(0,0,0)',\n",
    "                    width = 0.5)\n",
    "            ),\n",
    "            colorbar = dict(\n",
    "                title = 'Daily vaccinations',\n",
    "                tickprefix = '')\n",
    "        )\n",
    "\n",
    "data = [trace]\n",
    "layout = go.Layout(\n",
    "    title = 'Daily vaccinations per country',\n",
    "    geo = dict(\n",
    "        showframe = True,\n",
    "        showlakes = False,\n",
    "        showcoastlines = True,\n",
    "        projection = dict(\n",
    "            type = 'natural earth'\n",
    "        )\n",
    "    )\n",
    ")\n",
    "\n",
    "fig = dict( data=data, layout=layout )\n",
    "iplot(fig)"
   ]
  },
  {
   "cell_type": "code",
   "execution_count": null,
   "metadata": {},
   "outputs": [],
   "source": [
    "trace = go.Choropleth(\n",
    "            locations = country_vaccine['Country'],\n",
    "            locationmode='country names',\n",
    "            z = country_vaccine['Daily vaccinations per million'],\n",
    "            text = country_vaccine['Country'],\n",
    "            autocolorscale =False,\n",
    "            reversescale = True,\n",
    "            colorscale = 'viridis',\n",
    "            marker = dict(\n",
    "                line = dict(\n",
    "                    color = 'rgb(0,0,0)',\n",
    "                    width = 0.5)\n",
    "            ),\n",
    "            colorbar = dict(\n",
    "                title = 'Daily vaccinations per million',\n",
    "                tickprefix = '')\n",
    "        )\n",
    "\n",
    "data = [trace]\n",
    "layout = go.Layout(\n",
    "    title = 'Daily vaccinations per million per country',\n",
    "    geo = dict(\n",
    "        showframe = True,\n",
    "        showlakes = False,\n",
    "        showcoastlines = True,\n",
    "        projection = dict(\n",
    "            type = 'natural earth'\n",
    "        )\n",
    "    )\n",
    ")\n",
    "\n",
    "fig = dict( data=data, layout=layout )\n",
    "iplot(fig)"
   ]
  },
  {
   "cell_type": "code",
   "execution_count": null,
   "metadata": {},
   "outputs": [],
   "source": [
    "trace = go.Choropleth(\n",
    "            locations = country_vaccine['Country'],\n",
    "            locationmode='country names',\n",
    "            z = country_vaccine['People vaccinated'],\n",
    "            text = country_vaccine['Country'],\n",
    "            autocolorscale =False,\n",
    "            reversescale = True,\n",
    "            colorscale = 'viridis',\n",
    "            marker = dict(\n",
    "                line = dict(\n",
    "                    color = 'rgb(0,0,0)',\n",
    "                    width = 0.5)\n",
    "            ),\n",
    "            colorbar = dict(\n",
    "                title = 'People vaccinated',\n",
    "                tickprefix = '')\n",
    "        )\n",
    "\n",
    "data = [trace]\n",
    "layout = go.Layout(\n",
    "    title = 'People vaccinated per country',\n",
    "    geo = dict(\n",
    "        showframe = True,\n",
    "        showlakes = False,\n",
    "        showcoastlines = True,\n",
    "        projection = dict(\n",
    "            type = 'natural earth'\n",
    "        )\n",
    "    )\n",
    ")\n",
    "\n",
    "fig = dict( data=data, layout=layout )\n",
    "iplot(fig)"
   ]
  },
  {
   "cell_type": "code",
   "execution_count": null,
   "metadata": {},
   "outputs": [],
   "source": [
    "trace = go.Choropleth(\n",
    "            locations = country_vaccine['Country'],\n",
    "            locationmode='country names',\n",
    "            z = country_vaccine['People vaccinated per hundred'],\n",
    "            text = country_vaccine['Country'],\n",
    "            autocolorscale =False,\n",
    "            reversescale = True,\n",
    "            colorscale = 'viridis',\n",
    "            marker = dict(\n",
    "                line = dict(\n",
    "                    color = 'rgb(0,0,0)',\n",
    "                    width = 0.5)\n",
    "            ),\n",
    "            colorbar = dict(\n",
    "                title = 'People vaccinated per hundred',\n",
    "                tickprefix = '')\n",
    "        )\n",
    "\n",
    "data = [trace]\n",
    "layout = go.Layout(\n",
    "    title = 'People vaccinated per hundred per country',\n",
    "    geo = dict(\n",
    "        showframe = True,\n",
    "        showlakes = False,\n",
    "        showcoastlines = True,\n",
    "        projection = dict(\n",
    "            type = 'natural earth'\n",
    "        )\n",
    "    )\n",
    ")\n",
    "\n",
    "fig = dict( data=data, layout=layout )\n",
    "iplot(fig)"
   ]
  },
  {
   "cell_type": "markdown",
   "metadata": {},
   "source": [
    "## Como avançou a vacinação\n",
    "\n",
    "Let's look to the way the vaccination progressed.\n",
    "\n",
    "We will look to the values of total vaccination and daily vaccination."
   ]
  },
  {
   "cell_type": "code",
   "execution_count": null,
   "metadata": {},
   "outputs": [],
   "source": [
    "country_vaccine_time = data_df[[\"country\", \"vaccines\", \"date\", 'total_vaccinations', \n",
    "                                'total_vaccinations_per_hundred',  'people_vaccinated','people_vaccinated_per_hundred',\n",
    "                               'daily_vaccinations','daily_vaccinations_per_million', \n",
    "                                'people_fully_vaccinated', 'people_fully_vaccinated_per_hundred'\n",
    "                               ]].dropna()\n",
    "country_vaccine_time.columns = [\"Country\", \"Vaccines\", \"Date\", 'Total vaccinations', 'Percent', 'People vaccinated', 'People percent',\n",
    "                               \"Daily vaccinations\", \"Daily vaccinations per million\", \n",
    "                                'People fully vaccinated', 'People fully vaccinated percent']"
   ]
  },
  {
   "cell_type": "code",
   "execution_count": null,
   "metadata": {},
   "outputs": [],
   "source": [
    "countries = ['Austria', 'Belgium', 'Bulgaria','Croatia', 'Cyprus', 'Czechia', 'Denmark', 'Estonia', 'Finland', 'France', 'Germany',\n",
    "             'Greece', 'Hungary', 'Ireland', 'Israel', 'Italy', 'Latvia','Lithuania', 'Luxembourg', 'Malta',\n",
    "             'Netherlands', 'Norway','Poland', 'Portugal', 'Romania', 'Serbia', 'Slovakia', 'Spain', 'Sweden',\n",
    "             'United Kingdom', 'United States', 'China']"
   ]
  },
  {
   "cell_type": "code",
   "execution_count": null,
   "metadata": {},
   "outputs": [],
   "source": [
    "def plot_time_variation_countries_group(data_df, feature, title, countries):\n",
    "    data = []\n",
    "    for country in countries:\n",
    "        df = data_df.loc[data_df.Country==country]\n",
    "        trace = go.Scatter(\n",
    "            x = df['Date'],y = df[feature],\n",
    "            name=country,\n",
    "            mode = \"markers+lines\",\n",
    "            marker_line_width = 1,\n",
    "            marker_size = 8,\n",
    "            marker_symbol = 'circle',\n",
    "            text=df['Country'])\n",
    "        data.append(trace)\n",
    "    layout = dict(title = title,\n",
    "          xaxis = dict(title = 'Date', showticklabels=True,zeroline=True, zerolinewidth=1, zerolinecolor='grey',\n",
    "                       showline=True, linewidth=2, linecolor='black', mirror=True,\n",
    "                       tickfont=dict(size=10,color='darkblue'),), \n",
    "          yaxis = dict(title = feature, gridcolor='lightgrey', zeroline=True, zerolinewidth=1, zerolinecolor='grey',\n",
    "                       showline=True, linewidth=2, linecolor='black', mirror=True, type=\"log\"),\n",
    "                       plot_bgcolor = 'rgba(0, 0, 0, 0)', paper_bgcolor = 'rgba(0, 0, 0, 0)',\n",
    "         hovermode = 'x', \n",
    "         height=800\n",
    "         )\n",
    "    fig = dict(data=data, layout=layout)\n",
    "    iplot(fig, filename='all_countries')"
   ]
  },
  {
   "cell_type": "code",
   "execution_count": null,
   "metadata": {},
   "outputs": [],
   "source": [
    "plot_time_variation_countries_group(country_vaccine_time, 'Percent', 'Total vaccination percent evolution (selected countries, log scale)', countries)"
   ]
  },
  {
   "cell_type": "code",
   "execution_count": null,
   "metadata": {},
   "outputs": [],
   "source": [
    "plot_time_variation_countries_group(country_vaccine_time, 'Total vaccinations', 'Total vaccination evolution (selected countries, log scale)', countries)"
   ]
  },
  {
   "cell_type": "code",
   "execution_count": null,
   "metadata": {},
   "outputs": [],
   "source": [
    "plot_time_variation_countries_group(country_vaccine_time, 'People percent', 'People vaccinated percent evolution (selected countries, log scale)', countries)"
   ]
  },
  {
   "cell_type": "code",
   "execution_count": null,
   "metadata": {},
   "outputs": [],
   "source": [
    "plot_time_variation_countries_group(country_vaccine_time, 'People vaccinated', 'People vaccinated evolution (selected countries, log scale)', countries)"
   ]
  },
  {
   "cell_type": "code",
   "execution_count": null,
   "metadata": {},
   "outputs": [],
   "source": [
    "plot_time_variation_countries_group(country_vaccine_time, 'Daily vaccinations', 'Daily vaccinations evolution (selected countries, log scale)', countries)"
   ]
  },
  {
   "cell_type": "code",
   "execution_count": null,
   "metadata": {},
   "outputs": [],
   "source": [
    "plot_time_variation_countries_group(country_vaccine_time, 'Daily vaccinations per million', 'Daily vaccinations per million evolution (selected countries, log scale)', countries)"
   ]
  },
  {
   "cell_type": "code",
   "execution_count": null,
   "metadata": {},
   "outputs": [],
   "source": [
    "plot_time_variation_countries_group(country_vaccine_time, 'People fully vaccinated percent', 'People fully vaccinated percent evolution (selected countries, log scale)', countries)"
   ]
  },
  {
   "cell_type": "code",
   "execution_count": null,
   "metadata": {},
   "outputs": [],
   "source": [
    "plot_time_variation_countries_group(country_vaccine_time, 'People fully vaccinated', 'People fully vaccinated evolution (selected countries, log scale)', countries)"
   ]
  }
 ],
 "metadata": {
  "kernelspec": {
   "display_name": ".venv",
   "language": "python",
   "name": "python3"
  },
  "language_info": {
   "codemirror_mode": {
    "name": "ipython",
    "version": 3
   },
   "file_extension": ".py",
   "mimetype": "text/x-python",
   "name": "python",
   "nbconvert_exporter": "python",
   "pygments_lexer": "ipython3",
   "version": "3.12.5"
  }
 },
 "nbformat": 4,
 "nbformat_minor": 2
}
